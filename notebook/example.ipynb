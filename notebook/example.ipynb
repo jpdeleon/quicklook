{
 "cells": [
  {
   "cell_type": "markdown",
   "id": "7a208ec6-4842-4d1d-8a3f-0ab9636eb5c3",
   "metadata": {},
   "source": [
    "<a href=\"https://colab.research.google.com/github/jpdeleon/quicklook/blob/main/notebook/example.ipynb\" target=\"_parent\"><img src=\"https://colab.research.google.com/assets/colab-badge.svg\" alt=\"Open In Colab\"/></a>"
   ]
  },
  {
   "cell_type": "markdown",
   "id": "bcaab0f7-13b3-4dfa-a6ee-6a7db7512c2f",
   "metadata": {},
   "source": [
    "Run the next cell to install `quicklook` and its dependencies."
   ]
  },
  {
   "cell_type": "code",
   "execution_count": 1,
   "id": "2f4a31ba-cbc6-4895-b1ff-28426a2557db",
   "metadata": {},
   "outputs": [],
   "source": [
    "# !python -m python -m pip install -r https://raw.githubusercontent.com/jpdeleon/quicklook/main/requirements.txt\n",
    "# !python -m pip install -e git+https://github.com/jpdeleon/quicklook.git#egg=tfop-code"
   ]
  },
  {
   "cell_type": "markdown",
   "id": "c7cb9dc3-ba7f-420a-b2f6-8c8dbf790b21",
   "metadata": {},
   "source": [
    "Check if quicklook is installed in your environment."
   ]
  },
  {
   "cell_type": "code",
   "execution_count": 2,
   "id": "5898f8f0-eb1d-45b5-b914-4cd3094bb1ac",
   "metadata": {},
   "outputs": [
    {
     "name": "stdout",
     "output_type": "stream",
     "text": [
      "Name: quicklook\n",
      "Version: 1.0\n",
      "Summary: Quicklook lightcurve plot generator\n",
      "Home-page: https://github.com/jpdeleon/quicklook\n",
      "Author: Jerome de Leon\n",
      "Author-email: jpdeleon <jpdeleon.bsap@gmail.com>\n",
      "License: \n",
      "Location: /home/jp/miniconda3/envs/ql/lib/python3.11/site-packages\n",
      "Editable project location: /home/jp/github/research/project/quicklook\n",
      "Requires: \n",
      "Required-by: \n"
     ]
    }
   ],
   "source": [
    "!python -m pip show quicklook"
   ]
  },
  {
   "cell_type": "markdown",
   "id": "d4fc9f52-782f-4a7c-9fd8-556a48fffdd4",
   "metadata": {},
   "source": [
    "## Example 1"
   ]
  },
  {
   "cell_type": "code",
   "execution_count": null,
   "id": "dbf2fd9a-4eec-4391-85e1-136d206df66c",
   "metadata": {},
   "outputs": [
    {
     "name": "stderr",
     "output_type": "stream",
     "text": [
      "/home/jp/miniconda3/envs/ql/lib/python3.11/site-packages/lightkurve/config/__init__.py:119: UserWarning: The default Lightkurve cache directory, used by download(), etc., has been moved to /home/jp/.lightkurve/cache. Please move all the files in the legacy directory /home/jp/.lightkurve-cache to the new location and remove the legacy directory. Refer to https://docs.lightkurve.org/reference/config.html#default-cache-directory-migration for more information.\n",
      "  warnings.warn(\n"
     ]
    },
    {
     "name": "stdout",
     "output_type": "stream",
     "text": [
      "Generating TQL for WASP-21...\n"
     ]
    }
   ],
   "source": [
    "%matplotlib inline\n",
    "#import the tql module inside the quicklook package\n",
    "from tql import TessQuickLook\n",
    "\n",
    "#initialize the class by simply supplying the target name\n",
    "target = TessQuickLook(target_name=\"WASP-21\")"
   ]
  },
  {
   "cell_type": "markdown",
   "id": "47ab70e6-f9bf-4868-b3d5-9f1c2f5b8c69",
   "metadata": {},
   "source": [
    "Above is the log when initializing the target. It's not important for now. Let's plot the results."
   ]
  },
  {
   "cell_type": "code",
   "execution_count": null,
   "id": "a0b400e3-8aa0-4e0f-ade0-6796d367d05e",
   "metadata": {},
   "outputs": [],
   "source": [
    "fig = target.plot_tql()"
   ]
  },
  {
   "cell_type": "markdown",
   "id": "f3a8ae69-f91d-4dee-8fc0-30202316f4c2",
   "metadata": {},
   "source": [
    "The figure above shows 9 panels. Let's break them down.\n",
    "* top row\n",
    "  - left (panel 1): raw lightcurve (blue marker) and trend (red line)\n",
    "  - middle (panel 2): [Lomb-Scargle periodogram](https://docs.astropy.org/en/stable/timeseries/lombscargle.html) used to estimate the star's rotation period\n",
    "  - right (panel 3): raw lightcurve phase-folded at the computed peak stellar rotation period from panel 1\n",
    "* middle row\n",
    "  - left (panel 4): flattened lightcurve and detected transits (determined from the TLS periodogram on panel 5)\n",
    "  - middle (panel 5): periodogram using the [TLS](https://arxiv.org/abs/1901.02015) algorithm\n",
    "  - right (panel 6): TESS aperture (blue polygon) and annotated gaia sources (orange and red markers) overlaid on archival [DSS](https://archive.stsci.edu/cgi-bin/dss_form) image centered on the target\n",
    "* bottom row\n",
    "  - left (panel 7): phase-folded lightcurve at peak of TLS orbital period of odd and even transits\n",
    "  - middle (panel 8): phase-folded lightcurve zoomed at phase=0.5 with transit depth reference\n",
    "  - right (panel 8): summary info about the star and planet candidate"
   ]
  },
  {
   "cell_type": "markdown",
   "id": "5d0e0a57-6eec-4a9d-97cf-c2837f93f36f",
   "metadata": {},
   "source": [
    "Note that you can run the above code in the terminal using the `tql` script:\n",
    "```\n",
    "(tql) $ tql -name \"WASP-21\" \n",
    "```"
   ]
  },
  {
   "cell_type": "code",
   "execution_count": null,
   "id": "685b9d30-db4d-470a-b17b-638cd8e1bed0",
   "metadata": {},
   "outputs": [],
   "source": []
  }
 ],
 "metadata": {
  "kernelspec": {
   "display_name": "Python 3 (ipykernel)",
   "language": "python",
   "name": "python3"
  },
  "language_info": {
   "codemirror_mode": {
    "name": "ipython",
    "version": 3
   },
   "file_extension": ".py",
   "mimetype": "text/x-python",
   "name": "python",
   "nbconvert_exporter": "python",
   "pygments_lexer": "ipython3",
   "version": "3.11.5"
  }
 },
 "nbformat": 4,
 "nbformat_minor": 5
}

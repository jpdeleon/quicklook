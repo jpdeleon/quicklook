{
 "cells": [
  {
   "cell_type": "code",
   "execution_count": 1,
   "id": "b79dd684-6307-4dfa-bc6f-b0bf77213fff",
   "metadata": {},
   "outputs": [
    {
     "ename": "ModuleNotFoundError",
     "evalue": "No module named 'utils'",
     "output_type": "error",
     "traceback": [
      "\u001b[0;31m---------------------------------------------------------------------------\u001b[0m",
      "\u001b[0;31mModuleNotFoundError\u001b[0m                       Traceback (most recent call last)",
      "Cell \u001b[0;32mIn[1], line 3\u001b[0m\n\u001b[1;32m      1\u001b[0m \u001b[38;5;28;01mimport\u001b[39;00m \u001b[38;5;21;01msys\u001b[39;00m\n\u001b[1;32m      2\u001b[0m sys\u001b[38;5;241m.\u001b[39mpath\u001b[38;5;241m.\u001b[39minsert(\u001b[38;5;241m0\u001b[39m, \u001b[38;5;124m\"\u001b[39m\u001b[38;5;124m..\u001b[39m\u001b[38;5;124m\"\u001b[39m)\n\u001b[0;32m----> 3\u001b[0m \u001b[38;5;28;01mfrom\u001b[39;00m \u001b[38;5;21;01mtql\u001b[39;00m \u001b[38;5;28;01mimport\u001b[39;00m Tql\n",
      "File \u001b[0;32m~/github/research/project/tql2/notebook/../tql/__init__.py:1\u001b[0m\n\u001b[0;32m----> 1\u001b[0m \u001b[38;5;28;01mfrom\u001b[39;00m \u001b[38;5;21;01m.\u001b[39;00m\u001b[38;5;21;01mtql\u001b[39;00m\u001b[38;5;21;01m.\u001b[39;00m\u001b[38;5;21;01mutils\u001b[39;00m \u001b[38;5;28;01mimport\u001b[39;00m \u001b[38;5;241m*\u001b[39m\n\u001b[1;32m      2\u001b[0m \u001b[38;5;28;01mfrom\u001b[39;00m \u001b[38;5;21;01m.\u001b[39;00m\u001b[38;5;21;01mtql\u001b[39;00m\u001b[38;5;21;01m.\u001b[39;00m\u001b[38;5;21;01mplot\u001b[39;00m \u001b[38;5;28;01mimport\u001b[39;00m \u001b[38;5;241m*\u001b[39m\n\u001b[1;32m      3\u001b[0m \u001b[38;5;28;01mfrom\u001b[39;00m \u001b[38;5;21;01m.\u001b[39;00m\u001b[38;5;21;01mtql\u001b[39;00m\u001b[38;5;21;01m.\u001b[39;00m\u001b[38;5;21;01mmeasure\u001b[39;00m \u001b[38;5;28;01mimport\u001b[39;00m \u001b[38;5;241m*\u001b[39m\n",
      "File \u001b[0;32m~/github/research/project/tql2/notebook/../tql/tql.py:19\u001b[0m\n\u001b[1;32m     17\u001b[0m \u001b[38;5;28;01mfrom\u001b[39;00m \u001b[38;5;21;01maesthetic\u001b[39;00m\u001b[38;5;21;01m.\u001b[39;00m\u001b[38;5;21;01mplot\u001b[39;00m \u001b[38;5;28;01mimport\u001b[39;00m savefig \u001b[38;5;28;01mas\u001b[39;00m save_figure\n\u001b[1;32m     18\u001b[0m \u001b[38;5;28;01mimport\u001b[39;00m \u001b[38;5;21;01mflammkuchen\u001b[39;00m \u001b[38;5;28;01mas\u001b[39;00m \u001b[38;5;21;01mfk\u001b[39;00m\n\u001b[0;32m---> 19\u001b[0m \u001b[38;5;28;01mfrom\u001b[39;00m \u001b[38;5;21;01mutils\u001b[39;00m \u001b[38;5;28;01mimport\u001b[39;00m \u001b[38;5;241m*\u001b[39m\n\u001b[1;32m     20\u001b[0m \u001b[38;5;28;01mfrom\u001b[39;00m \u001b[38;5;21;01mplot\u001b[39;00m \u001b[38;5;28;01mimport\u001b[39;00m \u001b[38;5;241m*\u001b[39m\n\u001b[1;32m     21\u001b[0m set_style(\u001b[38;5;124m\"\u001b[39m\u001b[38;5;124mscience\u001b[39m\u001b[38;5;124m\"\u001b[39m)\n",
      "\u001b[0;31mModuleNotFoundError\u001b[0m: No module named 'utils'"
     ]
    }
   ],
   "source": [
    "import sys\n",
    "sys.path.insert(0, \"..\")\n",
    "from tql import Tql"
   ]
  },
  {
   "cell_type": "code",
   "execution_count": 2,
   "id": "3d68f910-cdab-4374-9077-add23d9580c9",
   "metadata": {},
   "outputs": [],
   "source": [
    "target_name = \"TOI-837\"\n",
    "# r = get_tfop_info(target_name)\n",
    "# ticid = get_tic_id(target_name)\n",
    "# v = get_toi_ephem(target_name)"
   ]
  },
  {
   "cell_type": "code",
   "execution_count": null,
   "id": "2d49daf8-030b-4544-9cd5-7ad16b0d0c91",
   "metadata": {},
   "outputs": [],
   "source": []
  },
  {
   "cell_type": "raw",
   "id": "75b3fc8f-3596-4599-9d86-a74598d62d30",
   "metadata": {},
   "source": [
    "get_lc(tql.target_name, sector=10)"
   ]
  },
  {
   "cell_type": "raw",
   "id": "e1b8c038-468d-4908-b1c1-0553576f751d",
   "metadata": {},
   "source": [
    "get_lc(tql.target_name, sector=0)"
   ]
  },
  {
   "cell_type": "raw",
   "id": "7fd08d56-b07c-4199-aacf-dc592cccf101",
   "metadata": {},
   "source": [
    "get_lc(tql.target_name, sector=-1)"
   ]
  },
  {
   "cell_type": "raw",
   "id": "c97f4e04-38bb-4881-9a1e-ad1259342731",
   "metadata": {},
   "source": [
    "get_lc(tql.target_name, sector='all')"
   ]
  },
  {
   "cell_type": "raw",
   "id": "8fe82f26-6100-4faf-af74-830836615b2e",
   "metadata": {},
   "source": [
    "get_lc(tql.target_name, author='cdips', sector=10)"
   ]
  },
  {
   "cell_type": "raw",
   "id": "e25d5b21-1046-4a1c-ae44-f6d3381f66f5",
   "metadata": {},
   "source": [
    "target_name = \"TOI-837\"\n",
    "raw_lc = get_lc(target_name, sector=-1, author='spoc')"
   ]
  },
  {
   "cell_type": "raw",
   "id": "82a0d316-f3fe-47d2-9afd-d0d8d7022e7a",
   "metadata": {},
   "source": [
    "baseline = int(raw_lc.time.value[-1] - raw_lc.time.value[0])\n",
    "Prot_max = baseline / 2.0\n",
    "\n",
    "method='lombscargle'\n",
    "best_period, ls_model = plot_periodogram(raw_lc, method=method)\n",
    "ls_model(raw_lc.time).fold(best_period).plot(label=f'{method} method')"
   ]
  },
  {
   "cell_type": "raw",
   "id": "72d85af9-a31b-4e79-9ed1-7e7aef2ca63c",
   "metadata": {},
   "source": [
    "plot_odd_even_transit(tql.fold_lc, tql.tls_results)"
   ]
  },
  {
   "cell_type": "raw",
   "id": "f528e2aa-ff74-4010-bff8-a6ba76693218",
   "metadata": {},
   "source": [
    "plot_secondary_eclipse(tql.flat_lc, tql.tls_results, tql.tmask)"
   ]
  },
  {
   "cell_type": "raw",
   "id": "3a975ded-5c08-4b0e-9b1e-428dd3490a7a",
   "metadata": {},
   "source": [
    "tql = Tql(\"TOI-837\", sector=-1, savefig=False, savetls=False, overwrite=True, plot=False)"
   ]
  },
  {
   "cell_type": "raw",
   "id": "d8da7a9c-bc8a-4410-90bd-8e0b502f1084",
   "metadata": {},
   "source": [
    "tql.plot_tql(plot=True)"
   ]
  }
 ],
 "metadata": {
  "kernelspec": {
   "display_name": "Python 3 (ipykernel)",
   "language": "python",
   "name": "python3"
  },
  "language_info": {
   "codemirror_mode": {
    "name": "ipython",
    "version": 3
   },
   "file_extension": ".py",
   "mimetype": "text/x-python",
   "name": "python",
   "nbconvert_exporter": "python",
   "pygments_lexer": "ipython3",
   "version": "3.10.6"
  }
 },
 "nbformat": 4,
 "nbformat_minor": 5
}
